{
 "cells": [
  {
   "cell_type": "markdown",
   "metadata": {},
   "source": [
    "# Performamce comparison"
   ]
  },
  {
   "cell_type": "code",
   "execution_count": 1,
   "metadata": {},
   "outputs": [],
   "source": [
    "# Change dir to repo root if running from repo (rather than pip installed)\n",
    "# (Assuming running from [repo]/notes/)\n",
    "import os\n",
    "os.chdir('../')\n",
    "\n",
    "%load_ext autoreload\n",
    "%autoreload 2"
   ]
  },
  {
   "cell_type": "code",
   "execution_count": 2,
   "metadata": {},
   "outputs": [],
   "source": [
    "import matplotlib.pyplot as plt\n",
    "import numpy as np\n",
    "\n",
    "from typing import Tuple\n",
    "\n",
    "from incremental_trees.trees import StreamingRFC\n",
    "\n",
    "from sklearn.ensemble import RandomForestClassifier\n",
    "from sklearn.datasets import make_blobs\n",
    "from sklearn.model_selection import train_test_split\n",
    "from sklearn.metrics import roc_auc_score"
   ]
  },
  {
   "cell_type": "code",
   "execution_count": 3,
   "metadata": {},
   "outputs": [],
   "source": [
    "# Settings\n",
    "MAX_ESTIMATORS = 120  # Lower to run faster"
   ]
  },
  {
   "cell_type": "markdown",
   "metadata": {},
   "source": [
    "# Synthetic data\n",
    "\n",
    "20000 samples, 2 classes, 40 features."
   ]
  },
  {
   "cell_type": "code",
   "execution_count": 4,
   "metadata": {},
   "outputs": [],
   "source": [
    "x, y = make_blobs(n_samples=20000,\n",
    "                  centers=2,\n",
    "                  cluster_std=100,\n",
    "                  n_features=40,\n",
    "                  random_state=0)"
   ]
  },
  {
   "cell_type": "markdown",
   "metadata": {},
   "source": [
    "## Default params"
   ]
  },
  {
   "cell_type": "markdown",
   "metadata": {},
   "source": [
    "### Standard random forest"
   ]
  },
  {
   "cell_type": "code",
   "execution_count": 5,
   "metadata": {},
   "outputs": [],
   "source": [
    "def score(mod, \n",
    "          train: Tuple[np.array, np.array],\n",
    "          test: Tuple[np.array, np.array],\n",
    "          pr=False) -> Tuple[float, float]:\n",
    "    \"\"\"\n",
    "    Return ROC auc on x_train and x_test (from caller) on mod. Print if requested.\n",
    "    \"\"\"\n",
    "    y_pred_train_proba = mod.predict_proba(train[0])[:, 1]\n",
    "    y_pred_test_proba = mod.predict_proba(test[0])[:, 1]\n",
    "\n",
    "    roc_train = roc_auc_score(train[1], y_pred_train_proba)\n",
    "    roc_test = roc_auc_score(test[1], y_pred_test_proba)\n",
    "    if pr:\n",
    "        print(f\"n_ests: {len(rfc.estimators_)}\")\n",
    "        print(f'Train AUC: {roc_train}')\n",
    "        print(f'Test AUC: {roc_test}')\n",
    "        \n",
    "    return roc_train, roc_test\n",
    "\n",
    "\n",
    "def inc_fit(x: np.array, y: np.array,\n",
    "            rfc=None,\n",
    "            steps=np.arange(1, 101, 2),\n",
    "            sample: int=1):\n",
    "    \"\"\"\n",
    "    Fit a random forest model with an increasing number of estimators.\n",
    "    \n",
    "    Uses .fit with warm_start=True.\n",
    "    \n",
    "    :param rfc: RFC model to test. Default = None (use example with default RFC params).\n",
    "                If model is supplied, the .n_estimators param will be ignored and managed here.\n",
    "    :param steps: Range to iterate over. Sets total number of estimators that will be fit in model\n",
    "                  after each iteration. Should be range with constant step size.\n",
    "    \"\"\"\n",
    "    \n",
    "    x_train, x_test, y_train, y_test = train_test_split(x, y, \n",
    "                                                        test_size=0.25,\n",
    "                                                        random_state=1)\n",
    "    \n",
    "    if rfc is None:\n",
    "        rfc = RandomForestClassifier(warm_start=True)\n",
    "    \n",
    "    train_scores = []\n",
    "    test_scores = []\n",
    "    for s in steps:\n",
    "        # Fit model with these n ests\n",
    "        rfc.set_params(n_estimators=s)\n",
    "        rfc.fit(x_train, y_train)\n",
    "        \n",
    "        tr_score, te_score = score(rfc, \n",
    "                                   train=(x_train, y_train),\n",
    "                                   test=(x_test, y_test),\n",
    "                                   pr=False)\n",
    "        train_scores.append(tr_score)\n",
    "        test_scores.append(te_score)\n",
    "    \n",
    "    return train_scores, test_scores\n",
    "\n",
    "\n",
    "def plot_auc(steps, train_scores, test_scores):\n",
    "    \"\"\"\n",
    "    Plot the train and test auc scores vs total number of model estimators\n",
    "    \"\"\"\n",
    "    \n",
    "    fig = plt.figure(figsize=(4, 4))\n",
    "    plt.plot(steps, train_scores)\n",
    "    plt.plot(steps, test_scores)\n",
    "    plt.xlabel('n_estimators')\n",
    "    plt.ylabel('auc')\n",
    "    plt.legend(['train', 'test'])"
   ]
  },
  {
   "cell_type": "code",
   "execution_count": 6,
   "metadata": {},
   "outputs": [
    {
     "name": "stdout",
     "output_type": "stream",
     "text": [
      "Wall time: 1min 6s\n",
      "With 119: 1.0 | 0.6365717896237815\n"
     ]
    },
    {
     "data": {
      "image/png": "[encoded data removed]",
      "text/plain": [
       "<Figure size 288x288 with 1 Axes>"
      ]
     },
     "metadata": {
      "needs_background": "light"
     },
     "output_type": "display_data"
    }
   ],
   "source": [
    "steps = np.arange(1, MAX_ESTIMATORS, 2)\n",
    "rfc = RandomForestClassifier(warm_start=True)\n",
    "\n",
    "%time train_scores, test_scores = inc_fit(x, y, rfc=rfc, steps=steps)\n",
    "print(f\"With {len(rfc.estimators_)}: {train_scores[-1]} | {test_scores[-1]}\")\n",
    "plot_auc(steps, train_scores, test_scores)"
   ]
  },
  {
   "cell_type": "markdown",
   "metadata": {},
   "source": [
    "### Streaming random forest"
   ]
  },
  {
   "cell_type": "code",
   "execution_count": 7,
   "metadata": {},
   "outputs": [],
   "source": [
    "def inc_partial_fit(x: np.ndarray, y:np.ndarray,\n",
    "                    srfc=None,\n",
    "                    steps=np.arange(1, 101, 2),\n",
    "                    sample: int=0.1,\n",
    "                    **kwargs) -> None:\n",
    "    \n",
    "    \"\"\"\n",
    "    Fit increasing number of estimators using .partial_fit on a subsample of the training data.\n",
    "    \n",
    "    StreamingRFC.n_estimators: Number of estimators that will be fit in each step. Set from first\n",
    "                               difference in range (ie. range[1]-range[0])\n",
    "    StreamingRFC.max_n_estimators: Limit on number of estimators than will be fit in model. Should >\n",
    "                                   range[-1].\n",
    "    \n",
    "    :param srfc: StreamingRFC model to test. Default = None (use example with default RFC params).\n",
    "                 If model is supplied, the .n_estimators param should match the constant range\n",
    "                 step size.\n",
    "    :param steps: Range to iterate over. Sets total number of estimators that will be fit in model\n",
    "                  after each iteration. Should be range with constant step size.\n",
    "    :param sample: Proportion of randomly sampled training data to use on each partial_fit call.\n",
    "                   If sample = 1, all training data is used on each interation,\n",
    "                   so should behave as standard random forest. Default = 0.1 (10%)\n",
    "    \"\"\"\n",
    "    \n",
    "    x_train, x_test, y_train, y_test = train_test_split(x, y, \n",
    "                                                        test_size=0.25,\n",
    "                                                        random_state=1)\n",
    "    n_train = x_train.shape[0]\n",
    "    \n",
    "    if srfc is None:\n",
    "        srfc = StreamingRFC(n_estimators=np.diff(steps)[0],\n",
    "                            max_n_estimators=np.max(steps),\n",
    "                            **kwargs)\n",
    "    \n",
    "    train_scores = []\n",
    "    test_scores = []\n",
    "    for s in steps:\n",
    "        \n",
    "        use_idx = np.arange(0, n_train)[np.random.randint(low=0, \n",
    "                                                    high=n_train, \n",
    "                                                    size=int(n_train * sample))]\n",
    "        \n",
    "        # Fit model with these n ests\n",
    "        srfc.partial_fit(x_train[use_idx, :], y_train[use_idx])\n",
    "        \n",
    "        tr_score, te_score = score(srfc,\n",
    "                                   train=(x_train, y_train),\n",
    "                                   test=(x_test, y_test),\n",
    "                                   pr=False)\n",
    "        train_scores.append(tr_score)\n",
    "        test_scores.append(te_score)\n",
    "    \n",
    "    return train_scores, test_scores"
   ]
  },
  {
   "cell_type": "markdown",
   "metadata": {},
   "source": [
    "#### As normal random forest\n",
    "1 estimator per full subset"
   ]
  },
  {
   "cell_type": "code",
   "execution_count": 8,
   "metadata": {},
   "outputs": [
    {
     "name": "stdout",
     "output_type": "stream",
     "text": [
      "Wall time: 1min 34s\n",
      "With 119: 1.0 | 0.6332757811859998\n"
     ]
    },
    {
     "data": {
      "image/png": "[encoded data removed]",
      "text/plain": [
       "<Figure size 288x288 with 1 Axes>"
      ]
     },
     "metadata": {
      "needs_background": "light"
     },
     "output_type": "display_data"
    }
   ],
   "source": [
    "steps = np.arange(1, MAX_ESTIMATORS, 1)\n",
    "srfc = StreamingRFC(n_estimators=1,\n",
    "                    max_n_estimators=np.max(steps))\n",
    "\n",
    "%time train_scores, test_scores = inc_partial_fit(x, y, srfc=srfc, steps=steps, sample=1)\n",
    "print(f\"With {len(srfc.estimators_)}: {train_scores[-1]} | {test_scores[-1]}\")\n",
    "plot_auc(steps, train_scores, test_scores)"
   ]
  },
  {
   "cell_type": "markdown",
   "metadata": {},
   "source": [
    "#### Partial random forest\n",
    "1 estimator per 10 % subset"
   ]
  },
  {
   "cell_type": "code",
   "execution_count": 9,
   "metadata": {},
   "outputs": [
    {
     "name": "stdout",
     "output_type": "stream",
     "text": [
      "Wall time: 51.1 s\n",
      "With 119: 0.8240337277251492 | 0.6233281557200787\n"
     ]
    },
    {
     "data": {
      "image/png": "[encoded data removed]",
      "text/plain": [
       "<Figure size 288x288 with 1 Axes>"
      ]
     },
     "metadata": {
      "needs_background": "light"
     },
     "output_type": "display_data"
    }
   ],
   "source": [
    "steps = np.arange(1, MAX_ESTIMATORS, 1)\n",
    "srfc = StreamingRFC(n_estimators=1,\n",
    "                    max_n_estimators=np.max(steps))\n",
    "\n",
    "%time train_scores, test_scores = inc_partial_fit(x, y, srfc=srfc, steps=steps, sample=0.1)\n",
    "print(f\"With {len(srfc.estimators_)}: {train_scores[-1]} | {test_scores[-1]}\")\n",
    "plot_auc(steps, train_scores, test_scores)"
   ]
  },
  {
   "cell_type": "markdown",
   "metadata": {},
   "source": [
    "#### Partial random forest\n",
    "3 estimators per 10 % subset, but /3 fewer steps"
   ]
  },
  {
   "cell_type": "code",
   "execution_count": 10,
   "metadata": {},
   "outputs": [
    {
     "name": "stdout",
     "output_type": "stream",
     "text": [
      "Wall time: 18.8 s\n",
      "With 120: 0.8210940913334305 | 0.6291209705496845\n"
     ]
    },
    {
     "data": {
      "image/png": "[encoded data removed]",
      "text/plain": [
       "<Figure size 288x288 with 1 Axes>"
      ]
     },
     "metadata": {
      "needs_background": "light"
     },
     "output_type": "display_data"
    }
   ],
   "source": [
    "steps = np.arange(1, MAX_ESTIMATORS, 3)\n",
    "srfc = StreamingRFC(n_estimators=3,\n",
    "                    max_n_estimators=np.max(steps))\n",
    "\n",
    "%time train_scores, test_scores = inc_partial_fit(x, y, srfc=srfc, steps=steps, sample=0.1)\n",
    "print(f\"With {len(srfc.estimators_)}: {train_scores[-1]} | {test_scores[-1]}\")\n",
    "plot_auc(steps, train_scores, test_scores)"
   ]
  },
  {
   "cell_type": "markdown",
   "metadata": {},
   "source": [
    "#### Forest of partial decision trees\n",
    "1 estimator per 10 % subset with all features"
   ]
  },
  {
   "cell_type": "code",
   "execution_count": 11,
   "metadata": {},
   "outputs": [
    {
     "name": "stdout",
     "output_type": "stream",
     "text": [
      "Wall time: 53.8 s\n",
      "With 119: 0.8131764624146383 | 0.6357813076001474\n"
     ]
    },
    {
     "data": {
      "image/png": "[encoded data removed]",
      "text/plain": [
       "<Figure size 288x288 with 1 Axes>"
      ]
     },
     "metadata": {
      "needs_background": "light"
     },
     "output_type": "display_data"
    }
   ],
   "source": [
    "steps = np.arange(1, MAX_ESTIMATORS, 1)\n",
    "srfc = StreamingRFC(n_estimators=1,\n",
    "                    max_n_estimators=np.max(steps),\n",
    "                    max_features=x.shape[1])\n",
    "\n",
    "%time train_scores, test_scores = inc_partial_fit(x, y, srfc=srfc, steps=steps, sample=0.1)\n",
    "print(f\"With {len(srfc.estimators_)}: {train_scores[-1]} | {test_scores[-1]}\")\n",
    "plot_auc(steps, train_scores, test_scores)"
   ]
  },
  {
   "cell_type": "markdown",
   "metadata": {},
   "source": [
    "# Optimised parameters\n",
    "\n",
    "Using a better set of parameters for this dataset"
   ]
  },
  {
   "cell_type": "code",
   "execution_count": 12,
   "metadata": {},
   "outputs": [
    {
     "name": "stdout",
     "output_type": "stream",
     "text": [
      "Best set: 1.0 | 0.6164312580640207\n"
     ]
    },
    {
     "data": {
      "image/png": "[encoded data removed]",
      "text/plain": [
       "<Figure size 288x288 with 1 Axes>"
      ]
     },
     "metadata": {
      "needs_background": "light"
     },
     "output_type": "display_data"
    }
   ],
   "source": [
    "steps = np.arange(1, 60, 2)\n",
    "train_scores, test_scores = inc_fit(x, y, \n",
    "                                    steps=steps)\n",
    "print(f\"Best set: {train_scores[-1]} | {test_scores[-1]}\")\n",
    "plot_auc(steps, train_scores, test_scores)"
   ]
  }
 ],
 "metadata": {
  "kernelspec": {
   "display_name": "Python 3",
   "language": "python",
   "name": "python3"
  },
  "language_info": {
   "codemirror_mode": {
    "name": "ipython",
    "version": 3
   },
   "file_extension": ".py",
   "mimetype": "text/x-python",
   "name": "python",
   "nbconvert_exporter": "python",
   "pygments_lexer": "ipython3",
   "version": "3.6.8"
  }
 },
 "nbformat": 4,
 "nbformat_minor": 2
}
