{
 "cells": [
  {
   "cell_type": "markdown",
   "metadata": {},
   "source": [
    "# Performamce comparison\n",
    "\n",
    "In memory, no dask."
   ]
  },
  {
   "cell_type": "code",
   "execution_count": 1,
   "metadata": {},
   "outputs": [],
   "source": [
    "# Change dir to repo root if running from repo (rather than pip installed)\n",
    "# (Assuming running from [repo]/notes/)\n",
    "import os\n",
    "os.chdir('../')\n",
    "\n",
    "%load_ext autoreload\n",
    "%autoreload 2"
   ]
  },
  {
   "cell_type": "code",
   "execution_count": 2,
   "metadata": {},
   "outputs": [],
   "source": [
    "import matplotlib.pyplot as plt\n",
    "import numpy as np\n",
    "\n",
    "from typing import Tuple\n",
    "\n",
    "from incremental_trees.trees import StreamingRFC\n",
    "\n",
    "from sklearn.ensemble import RandomForestClassifier\n",
    "from sklearn.datasets import make_blobs\n",
    "from sklearn.model_selection import train_test_split\n",
    "from sklearn.metrics import roc_auc_score"
   ]
  },
  {
   "cell_type": "code",
   "execution_count": 3,
   "metadata": {},
   "outputs": [],
   "source": [
    "# Settings\n",
    "MAX_ESTIMATORS = 120  # Lower to run faster"
   ]
  },
  {
   "cell_type": "markdown",
   "metadata": {},
   "source": [
    "# Synthetic data\n",
    "\n",
    "20000 samples, 2 classes, 40 features."
   ]
  },
  {
   "cell_type": "code",
   "execution_count": 4,
   "metadata": {},
   "outputs": [],
   "source": [
    "x, y = make_blobs(n_samples=20000,\n",
    "                  centers=2,\n",
    "                  cluster_std=100,\n",
    "                  n_features=40,\n",
    "                  random_state=0)"
   ]
  },
  {
   "cell_type": "markdown",
   "metadata": {},
   "source": [
    "## Default params"
   ]
  },
  {
   "cell_type": "markdown",
   "metadata": {},
   "source": [
    "### Standard random forest"
   ]
  },
  {
   "cell_type": "code",
   "execution_count": 5,
   "metadata": {},
   "outputs": [],
   "source": [
    "def score(mod, \n",
    "          train: Tuple[np.array, np.array],\n",
    "          test: Tuple[np.array, np.array],\n",
    "          pr=False) -> Tuple[float, float]:\n",
    "    \"\"\"\n",
    "    Return ROC auc on x_train and x_test (from caller) on mod. Print if requested.\n",
    "    \"\"\"\n",
    "    y_pred_train_proba = mod.predict_proba(train[0])[:, 1]\n",
    "    y_pred_test_proba = mod.predict_proba(test[0])[:, 1]\n",
    "\n",
    "    roc_train = roc_auc_score(train[1], y_pred_train_proba)\n",
    "    roc_test = roc_auc_score(test[1], y_pred_test_proba)\n",
    "    if pr:\n",
    "        print(f\"n_ests: {len(rfc.estimators_)}\")\n",
    "        print(f'Train AUC: {roc_train}')\n",
    "        print(f'Test AUC: {roc_test}')\n",
    "        \n",
    "    return roc_train, roc_test\n",
    "\n",
    "\n",
    "def inc_fit(x: np.array, y: np.array,\n",
    "            rfc=None,\n",
    "            steps=np.arange(1, 101, 2),\n",
    "            sample: int=1):\n",
    "    \"\"\"\n",
    "    Fit a random forest model with an increasing number of estimators.\n",
    "    \n",
    "    Uses .fit with warm_start=True.\n",
    "    \n",
    "    :param rfc: RFC model to test. Default = None (use example with default RFC params).\n",
    "                If model is supplied, the .n_estimators param will be ignored and managed here.\n",
    "    :param steps: Range to iterate over. Sets total number of estimators that will be fit in model\n",
    "                  after each iteration. Should be range with constant step size.\n",
    "    :param sample: Proportion of randomly sampled training data to use on each partial_fit call.\n",
    "               If sample = 1, all training data is used on each interation,\n",
    "               so should behave as standard random forest. Default = 1 (100%).\n",
    "    \"\"\"\n",
    "    \n",
    "    x_train, x_test, y_train, y_test = train_test_split(x, y, \n",
    "                                                        test_size=0.25,\n",
    "                                                        random_state=1)\n",
    "    \n",
    "    if rfc is None:\n",
    "        rfc = RandomForestClassifier(warm_start=True)\n",
    "    \n",
    "    train_scores = []\n",
    "    test_scores = []\n",
    "    for s in steps:\n",
    "        # Fit model with these n ests\n",
    "        rfc.set_params(n_estimators=s)\n",
    "        rfc.fit(x_train, y_train)\n",
    "        \n",
    "        tr_score, te_score = score(rfc, \n",
    "                                   train=(x_train, y_train),\n",
    "                                   test=(x_test, y_test),\n",
    "                                   pr=False)\n",
    "        train_scores.append(tr_score)\n",
    "        test_scores.append(te_score)\n",
    "    \n",
    "    return train_scores, test_scores\n",
    "\n",
    "\n",
    "def plot_auc(steps, train_scores, test_scores):\n",
    "    \"\"\"\n",
    "    Plot the train and test auc scores vs total number of model estimators\n",
    "    \"\"\"\n",
    "    \n",
    "    fig = plt.figure(figsize=(4, 4))\n",
    "    plt.plot(steps, train_scores)\n",
    "    plt.plot(steps, test_scores)\n",
    "    plt.xlabel('n_estimators')\n",
    "    plt.ylabel('auc')\n",
    "    plt.legend(['train', 'test'])"
   ]
  },
  {
   "cell_type": "code",
   "execution_count": 6,
   "metadata": {},
   "outputs": [
    {
     "name": "stdout",
     "output_type": "stream",
     "text": [
      "CPU times: user 18.2 s, sys: 219 ms, total: 18.4 s\n",
      "Wall time: 18.5 s\n",
      "With 119: 1.0 | 0.6327917799469568\n"
     ]
    },
    {
     "data": {
      "image/png": "[encoded data removed]",
      "text/plain": [
       "<Figure size 288x288 with 1 Axes>"
      ]
     },
     "metadata": {
      "needs_background": "light"
     },
     "output_type": "display_data"
    }
   ],
   "source": [
    "steps = np.arange(1, MAX_ESTIMATORS, 2)\n",
    "rfc = RandomForestClassifier(warm_start=True)\n",
    "\n",
    "%time train_scores, test_scores = inc_fit(x, y, rfc=rfc, steps=steps)\n",
    "print(f\"With {len(rfc.estimators_)}: {train_scores[-1]} | {test_scores[-1]}\")\n",
    "plot_auc(steps, train_scores, test_scores)"
   ]
  },
  {
   "cell_type": "markdown",
   "metadata": {},
   "source": [
    "### Streaming random forest"
   ]
  },
  {
   "cell_type": "code",
   "execution_count": 7,
   "metadata": {},
   "outputs": [],
   "source": [
    "def inc_partial_fit(x: np.ndarray, y:np.ndarray,\n",
    "                    srfc=None,\n",
    "                    steps=np.arange(1, 101, 2),\n",
    "                    sample: int=0.1,\n",
    "                    **kwargs) -> None:\n",
    "    \n",
    "    \"\"\"\n",
    "    Fit increasing number of estimators using .partial_fit on a subsample of the training data.\n",
    "    \n",
    "    StreamingRFC.n_estimators: Number of estimators that will be fit in each step. Set from first\n",
    "                               difference in range (ie. range[1]-range[0])\n",
    "    StreamingRFC.max_n_estimators: Limit on number of estimators than will be fit in model. Should >\n",
    "                                   range[-1].\n",
    "    \n",
    "    :param srfc: StreamingRFC model to test. Default = None (use example with default RFC params).\n",
    "                 If model is supplied, the .n_estimators param should match the constant range\n",
    "                 step size.\n",
    "    :param steps: Range to iterate over. Sets total number of estimators that will be fit in model\n",
    "                  after each iteration. Should be range with constant step size.\n",
    "    :param sample: Proportion of randomly sampled training data to use on each partial_fit call.\n",
    "                   If sample = 1, all training data is used on each interation,\n",
    "                   so should behave as standard random forest. Default = 0.1 (10%)\n",
    "    \"\"\"\n",
    "    \n",
    "    x_train, x_test, y_train, y_test = train_test_split(x, y, \n",
    "                                                        test_size=0.25,\n",
    "                                                        random_state=1)\n",
    "    n_train = x_train.shape[0]\n",
    "    \n",
    "    if srfc is None:\n",
    "        srfc = StreamingRFC(n_estimators_per_chunk=np.diff(steps)[0],\n",
    "                            max_n_estimators=np.max(steps),\n",
    "                            **kwargs)\n",
    "    \n",
    "    train_scores = []\n",
    "    test_scores = []\n",
    "    for s in steps:\n",
    "        \n",
    "        use_idx = np.arange(0, n_train)[np.random.randint(low=0, \n",
    "                                                    high=n_train, \n",
    "                                                    size=int(n_train * sample))]\n",
    "        \n",
    "        # Fit model with these n ests\n",
    "        srfc.partial_fit(x_train[use_idx, :], y_train[use_idx],\n",
    "                         classes=np.unique(y))\n",
    "        \n",
    "        tr_score, te_score = score(srfc,\n",
    "                                   train=(x_train, y_train),\n",
    "                                   test=(x_test, y_test),\n",
    "                                   pr=False)\n",
    "        train_scores.append(tr_score)\n",
    "        test_scores.append(te_score)\n",
    "    \n",
    "    return train_scores, test_scores"
   ]
  },
  {
   "cell_type": "markdown",
   "metadata": {},
   "source": [
    "#### As normal random forest\n",
    "1 estimator per full subset"
   ]
  },
  {
   "cell_type": "code",
   "execution_count": 8,
   "metadata": {},
   "outputs": [
    {
     "name": "stdout",
     "output_type": "stream",
     "text": [
      "CPU times: user 32.2 s, sys: 78.1 ms, total: 32.3 s\n",
      "Wall time: 32.7 s\n",
      "With 119: 0.9999999999999999 | 0.6331369808306709\n"
     ]
    },
    {
     "data": {
      "image/png": "[encoded data removed]",
      "text/plain": [
       "<Figure size 288x288 with 1 Axes>"
      ]
     },
     "metadata": {
      "needs_background": "light"
     },
     "output_type": "display_data"
    }
   ],
   "source": [
    "steps = np.arange(1, MAX_ESTIMATORS, 1)\n",
    "srfc = StreamingRFC(n_estimators=1,\n",
    "                    max_n_estimators=np.max(steps))\n",
    "\n",
    "%time train_scores, test_scores = inc_partial_fit(x, y, srfc=srfc, steps=steps, sample=1)\n",
    "print(f\"With {len(srfc.estimators_)}: {train_scores[-1]} | {test_scores[-1]}\")\n",
    "plot_auc(steps, train_scores, test_scores)"
   ]
  },
  {
   "cell_type": "markdown",
   "metadata": {},
   "source": [
    "#### Partial random forest\n",
    "1 estimator per 10 % subset"
   ]
  },
  {
   "cell_type": "code",
   "execution_count": 9,
   "metadata": {},
   "outputs": [
    {
     "name": "stdout",
     "output_type": "stream",
     "text": [
      "CPU times: user 20.1 s, sys: 15.6 ms, total: 20.1 s\n",
      "Wall time: 20.5 s\n",
      "With 119: 0.8225306784087263 | 0.6294571314102564\n"
     ]
    },
    {
     "data": {
      "image/png": "[encoded data removed]",
      "text/plain": [
       "<Figure size 288x288 with 1 Axes>"
      ]
     },
     "metadata": {
      "needs_background": "light"
     },
     "output_type": "display_data"
    }
   ],
   "source": [
    "steps = np.arange(1, MAX_ESTIMATORS, 1)\n",
    "srfc = StreamingRFC(n_estimators_per_chunk=1,\n",
    "                    max_n_estimators=np.max(steps))\n",
    "\n",
    "%time train_scores, test_scores = inc_partial_fit(x, y, srfc=srfc, steps=steps, sample=0.1)\n",
    "print(f\"With {len(srfc.estimators_)}: {train_scores[-1]} | {test_scores[-1]}\")\n",
    "plot_auc(steps, train_scores, test_scores)"
   ]
  },
  {
   "cell_type": "markdown",
   "metadata": {},
   "source": [
    "#### Partial random forest\n",
    "3 estimators per 10 % subset, but /3 fewer steps"
   ]
  },
  {
   "cell_type": "code",
   "execution_count": 10,
   "metadata": {},
   "outputs": [
    {
     "name": "stdout",
     "output_type": "stream",
     "text": [
      "CPU times: user 7.44 s, sys: 31.2 ms, total: 7.47 s\n",
      "Wall time: 7.56 s\n",
      "With 120: 0.8246353545629453 | 0.6307688947683706\n"
     ]
    },
    {
     "data": {
      "image/png": "[encoded data removed]",
      "text/plain": [
       "<Figure size 288x288 with 1 Axes>"
      ]
     },
     "metadata": {
      "needs_background": "light"
     },
     "output_type": "display_data"
    }
   ],
   "source": [
    "steps = np.arange(1, MAX_ESTIMATORS, 3)\n",
    "srfc = StreamingRFC(n_estimators_per_chunk=3,\n",
    "                    max_n_estimators=np.max(steps))\n",
    "\n",
    "%time train_scores, test_scores = inc_partial_fit(x, y, srfc=srfc, steps=steps, sample=0.1)\n",
    "print(f\"With {len(srfc.estimators_)}: {train_scores[-1]} | {test_scores[-1]}\")\n",
    "plot_auc(steps, train_scores, test_scores)"
   ]
  },
  {
   "cell_type": "markdown",
   "metadata": {},
   "source": [
    "#### Forest of partial decision trees\n",
    "1 estimator per 10 % subset with all features"
   ]
  },
  {
   "cell_type": "code",
   "execution_count": 11,
   "metadata": {},
   "outputs": [
    {
     "name": "stdout",
     "output_type": "stream",
     "text": [
      "CPU times: user 22.3 s, sys: 31.2 ms, total: 22.3 s\n",
      "Wall time: 22.6 s\n",
      "With 119: 0.8138937870631217 | 0.6356310672155322\n"
     ]
    },
    {
     "data": {
      "image/png": "[encoded data removed]",
      "text/plain": [
       "<Figure size 288x288 with 1 Axes>"
      ]
     },
     "metadata": {
      "needs_background": "light"
     },
     "output_type": "display_data"
    }
   ],
   "source": [
    "steps = np.arange(1, MAX_ESTIMATORS, 1)\n",
    "srfc = StreamingRFC(n_estimators_per_chunk=1,\n",
    "                    max_n_estimators=np.max(steps),\n",
    "                    max_features=x.shape[1])\n",
    "\n",
    "%time train_scores, test_scores = inc_partial_fit(x, y, srfc=srfc, steps=steps, sample=0.1)\n",
    "print(f\"With {len(srfc.estimators_)}: {train_scores[-1]} | {test_scores[-1]}\")\n",
    "plot_auc(steps, train_scores, test_scores)"
   ]
  },
  {
   "cell_type": "markdown",
   "metadata": {},
   "source": [
    "# Optimised parameters\n",
    "\n",
    "Using a better set of parameters for this dataset"
   ]
  },
  {
   "cell_type": "code",
   "execution_count": 12,
   "metadata": {},
   "outputs": [
    {
     "name": "stdout",
     "output_type": "stream",
     "text": [
      "Fitting 3 folds for each of 100 candidates, totalling 300 fits\n"
     ]
    },
    {
     "name": "stderr",
     "output_type": "stream",
     "text": [
      "[Parallel(n_jobs=-1)]: Using backend LokyBackend with 8 concurrent workers.\n",
      "[Parallel(n_jobs=-1)]: Done   2 tasks      | elapsed:    5.1s\n",
      "[Parallel(n_jobs=-1)]: Done   9 tasks      | elapsed:    5.4s\n",
      "[Parallel(n_jobs=-1)]: Done  16 tasks      | elapsed:    6.1s\n",
      "[Parallel(n_jobs=-1)]: Done  25 tasks      | elapsed:    6.6s\n",
      "[Parallel(n_jobs=-1)]: Done  34 tasks      | elapsed:    7.8s\n",
      "[Parallel(n_jobs=-1)]: Done  45 tasks      | elapsed:    9.1s\n",
      "[Parallel(n_jobs=-1)]: Done  56 tasks      | elapsed:    9.9s\n",
      "[Parallel(n_jobs=-1)]: Done  69 tasks      | elapsed:   11.9s\n",
      "[Parallel(n_jobs=-1)]: Done  82 tasks      | elapsed:   12.8s\n",
      "[Parallel(n_jobs=-1)]: Done  97 tasks      | elapsed:   13.7s\n",
      "[Parallel(n_jobs=-1)]: Done 112 tasks      | elapsed:   14.9s\n",
      "[Parallel(n_jobs=-1)]: Done 129 tasks      | elapsed:   16.1s\n",
      "[Parallel(n_jobs=-1)]: Done 146 tasks      | elapsed:   17.2s\n",
      "[Parallel(n_jobs=-1)]: Done 165 tasks      | elapsed:   18.5s\n",
      "[Parallel(n_jobs=-1)]: Done 184 tasks      | elapsed:   20.4s\n",
      "[Parallel(n_jobs=-1)]: Done 205 tasks      | elapsed:   22.0s\n",
      "[Parallel(n_jobs=-1)]: Done 226 tasks      | elapsed:   23.2s\n",
      "[Parallel(n_jobs=-1)]: Done 249 tasks      | elapsed:   25.5s\n",
      "[Parallel(n_jobs=-1)]: Done 272 tasks      | elapsed:   28.5s\n",
      "[Parallel(n_jobs=-1)]: Done 300 out of 300 | elapsed:   30.6s finished\n"
     ]
    },
    {
     "name": "stdout",
     "output_type": "stream",
     "text": [
      "{'bootstrap': True, 'class_weight': None, 'criterion': 'gini', 'max_depth': None, 'max_features': 'auto', 'max_leaf_nodes': None, 'min_impurity_decrease': 0, 'min_impurity_split': None, 'min_samples_leaf': 60, 'min_samples_split': 2, 'min_weight_fraction_leaf': 0.0, 'n_estimators': 30, 'n_jobs': -1, 'oob_score': False, 'random_state': None, 'verbose': 0, 'warm_start': False}\n",
      "n_ests: 119\n",
      "Train AUC: 0.8107342572755221\n",
      "Test AUC: 0.6393736367965102\n"
     ]
    }
   ],
   "source": [
    "from sklearn.model_selection import RandomizedSearchCV as RCV\n",
    "\n",
    "grid = RCV(RandomForestClassifier(n_estimators=30, \n",
    "                                  n_jobs=-1),\n",
    "           param_distributions={'min_samples_leaf': [1, 2, 10, 30, 60, 120, 240, 480],\n",
    "                                'min_samples_split': [2, 10, 30, 60, 120, 240, 480],\n",
    "                                'min_impurity_decrease': [0, 0.05, 0.1, 0.2, 0.3]},\n",
    "           cv=3,\n",
    "           n_iter=100,\n",
    "           verbose=10,\n",
    "           n_jobs=-1)\n",
    "\n",
    "x_train, x_test, y_train, y_test = train_test_split(x, y, \n",
    "                                                    test_size=0.25,\n",
    "                                                    random_state=1)\n",
    "\n",
    "grid.fit(x_train, y_train)\n",
    "print(grid.best_estimator_.get_params(deep=True))\n",
    "\n",
    "tr_score, te_score = score(grid,\n",
    "                           train=(x_train, y_train),\n",
    "                           test=(x_test, y_test),\n",
    "                           pr=True)"
   ]
  },
  {
   "cell_type": "code",
   "execution_count": 13,
   "metadata": {},
   "outputs": [
    {
     "data": {
      "text/plain": [
       "{'bootstrap': True,\n",
       " 'class_weight': None,\n",
       " 'criterion': 'gini',\n",
       " 'max_depth': None,\n",
       " 'max_features': 'auto',\n",
       " 'max_leaf_nodes': None,\n",
       " 'min_impurity_decrease': 0,\n",
       " 'min_impurity_split': None,\n",
       " 'min_samples_leaf': 60,\n",
       " 'min_samples_split': 2,\n",
       " 'min_weight_fraction_leaf': 0.0,\n",
       " 'oob_score': False,\n",
       " 'random_state': None,\n",
       " 'verbose': 0}"
      ]
     },
     "execution_count": 13,
     "metadata": {},
     "output_type": "execute_result"
    }
   ],
   "source": [
    "params = grid.best_estimator_.get_params()\n",
    "params.pop('warm_start', None)\n",
    "params.pop('n_jobs', None)\n",
    "params.pop('n_estimators', None)\n",
    "params"
   ]
  },
  {
   "cell_type": "markdown",
   "metadata": {},
   "source": [
    "### Standard random forest"
   ]
  },
  {
   "cell_type": "code",
   "execution_count": 14,
   "metadata": {},
   "outputs": [
    {
     "name": "stdout",
     "output_type": "stream",
     "text": [
      "CPU times: user 5.44 s, sys: 46.9 ms, total: 5.48 s\n",
      "Wall time: 5.55 s\n",
      "With 111: 0.8330460502886542 | 0.649373182395347\n"
     ]
    },
    {
     "data": {
      "image/png": "[encoded data removed]",
      "text/plain": [
       "<Figure size 288x288 with 1 Axes>"
      ]
     },
     "metadata": {
      "needs_background": "light"
     },
     "output_type": "display_data"
    }
   ],
   "source": [
    "steps = np.arange(1, MAX_ESTIMATORS, 10)\n",
    "\n",
    "rfc = RandomForestClassifier(warm_start=True,\n",
    "                             **params)\n",
    "\n",
    "%time train_scores, test_scores = inc_fit(x, y, rfc=rfc, steps=steps)\n",
    "print(f\"With {len(rfc.estimators_)}: {train_scores[-1]} | {test_scores[-1]}\")\n",
    "plot_auc(steps, train_scores, test_scores)"
   ]
  },
  {
   "cell_type": "markdown",
   "metadata": {},
   "source": [
    "#### As normal random forest\n",
    "1 estimator per full subset"
   ]
  },
  {
   "cell_type": "code",
   "execution_count": 15,
   "metadata": {},
   "outputs": [
    {
     "name": "stdout",
     "output_type": "stream",
     "text": [
      "CPU times: user 24.4 s, sys: 0 ns, total: 24.4 s\n",
      "Wall time: 24.6 s\n",
      "With 119: 0.82665000402489 | 0.6500849442174572\n"
     ]
    },
    {
     "data": {
      "image/png": "[encoded data removed]",
      "text/plain": [
       "<Figure size 288x288 with 1 Axes>"
      ]
     },
     "metadata": {
      "needs_background": "light"
     },
     "output_type": "display_data"
    }
   ],
   "source": [
    "steps = np.arange(1, MAX_ESTIMATORS, 1)\n",
    "srfc = StreamingRFC(n_estimators_per_chunk=1,\n",
    "                    max_n_estimators=np.max(steps),\n",
    "                    **params)\n",
    "\n",
    "%time train_scores, test_scores = inc_partial_fit(x, y, srfc=srfc, steps=steps, sample=1)\n",
    "print(f\"With {len(srfc.estimators_)}: {train_scores[-1]} | {test_scores[-1]}\")\n",
    "plot_auc(steps, train_scores, test_scores)"
   ]
  },
  {
   "cell_type": "markdown",
   "metadata": {},
   "source": [
    "#### Partial random forest\n",
    "1 estimator per 10 % subset"
   ]
  },
  {
   "cell_type": "code",
   "execution_count": 16,
   "metadata": {},
   "outputs": [
    {
     "name": "stdout",
     "output_type": "stream",
     "text": [
      "CPU times: user 16.4 s, sys: 15.6 ms, total: 16.4 s\n",
      "Wall time: 16.7 s\n",
      "With 119: 0.6795318199557177 | 0.6549408766486443\n"
     ]
    },
    {
     "data": {
      "image/png": "[encoded data removed]",
      "text/plain": [
       "<Figure size 288x288 with 1 Axes>"
      ]
     },
     "metadata": {
      "needs_background": "light"
     },
     "output_type": "display_data"
    }
   ],
   "source": [
    "steps = np.arange(1, MAX_ESTIMATORS, 1)\n",
    "srfc = StreamingRFC(n_estimators=1,\n",
    "                    max_n_estimators=np.max(steps),\n",
    "                    **params)\n",
    "\n",
    "%time train_scores, test_scores = inc_partial_fit(x, y, srfc=srfc, steps=steps, sample=0.1)\n",
    "print(f\"With {len(srfc.estimators_)}: {train_scores[-1]} | {test_scores[-1]}\")\n",
    "plot_auc(steps, train_scores, test_scores)"
   ]
  },
  {
   "cell_type": "markdown",
   "metadata": {},
   "source": [
    "#### Partial random forest\n",
    "3 estimators per 10 % subset, but /3 fewer steps"
   ]
  },
  {
   "cell_type": "code",
   "execution_count": 17,
   "metadata": {},
   "outputs": [
    {
     "name": "stdout",
     "output_type": "stream",
     "text": [
      "CPU times: user 2.19 s, sys: 0 ns, total: 2.19 s\n",
      "Wall time: 2.2 s\n",
      "With 40: 0.6577470048702592 | 0.6314094564082084\n"
     ]
    },
    {
     "data": {
      "image/png": "[encoded data removed]",
      "text/plain": [
       "<Figure size 288x288 with 1 Axes>"
      ]
     },
     "metadata": {
      "needs_background": "light"
     },
     "output_type": "display_data"
    }
   ],
   "source": [
    "steps = np.arange(1, MAX_ESTIMATORS, 3)\n",
    "srfc = StreamingRFC(n_estimators=3,\n",
    "                    max_n_estimators=np.max(steps),\n",
    "                    **params)\n",
    "\n",
    "%time train_scores, test_scores = inc_partial_fit(x, y, srfc=srfc, steps=steps, sample=0.1)\n",
    "print(f\"With {len(srfc.estimators_)}: {train_scores[-1]} | {test_scores[-1]}\")\n",
    "plot_auc(steps, train_scores, test_scores)"
   ]
  },
  {
   "cell_type": "markdown",
   "metadata": {},
   "source": [
    "#### Forest of partial decision trees\n",
    "1 estimator per 10 % subset with all features"
   ]
  },
  {
   "cell_type": "code",
   "execution_count": 18,
   "metadata": {},
   "outputs": [
    {
     "data": {
      "text/plain": [
       "'auto'"
      ]
     },
     "execution_count": 18,
     "metadata": {},
     "output_type": "execute_result"
    }
   ],
   "source": [
    "params.pop('max_features', None)"
   ]
  },
  {
   "cell_type": "code",
   "execution_count": 19,
   "metadata": {},
   "outputs": [
    {
     "name": "stdout",
     "output_type": "stream",
     "text": [
      "CPU times: user 18.7 s, sys: 46.9 ms, total: 18.8 s\n",
      "Wall time: 19.1 s\n",
      "With 119: 0.6836834655810746 | 0.6486341405033996\n"
     ]
    },
    {
     "data": {
      "image/png": "[encoded data removed]",
      "text/plain": [
       "<Figure size 288x288 with 1 Axes>"
      ]
     },
     "metadata": {
      "needs_background": "light"
     },
     "output_type": "display_data"
    }
   ],
   "source": [
    "steps = np.arange(1, MAX_ESTIMATORS, 1)\n",
    "srfc = StreamingRFC(n_estimators=1,\n",
    "                    max_n_estimators=np.max(steps),\n",
    "                    max_features=x.shape[1],\n",
    "                    **params)\n",
    "\n",
    "%time train_scores, test_scores = inc_partial_fit(x, y, srfc=srfc, steps=steps, sample=0.1)\n",
    "print(f\"With {len(srfc.estimators_)}: {train_scores[-1]} | {test_scores[-1]}\")\n",
    "plot_auc(steps, train_scores, test_scores)"
   ]
  },
  {
   "cell_type": "code",
   "execution_count": null,
   "metadata": {},
   "outputs": [],
   "source": []
  }
 ],
 "metadata": {
  "kernelspec": {
   "display_name": "Python 3",
   "language": "python",
   "name": "python3"
  },
  "language_info": {
   "codemirror_mode": {
    "name": "ipython",
    "version": 3
   },
   "file_extension": ".py",
   "mimetype": "text/x-python",
   "name": "python",
   "nbconvert_exporter": "python",
   "pygments_lexer": "ipython3",
   "version": "3.6.7"
  }
 },
 "nbformat": 4,
 "nbformat_minor": 2
}
