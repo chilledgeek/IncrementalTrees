{
 "cells": [
  {
   "cell_type": "markdown",
   "metadata": {},
   "source": [
    "# Performance comparisons\n",
    "\n",
    "In memory and out of memory, using dask."
   ]
  },
  {
   "cell_type": "code",
   "execution_count": 1,
   "metadata": {},
   "outputs": [],
   "source": [
    "# Change dir to repo root if running from repo (rather than pip installed)\n",
    "# (Assuming running from [repo]/notes/)\n",
    "import os\n",
    "os.chdir('../')\n",
    "\n",
    "%load_ext autoreload\n",
    "%autoreload 2"
   ]
  },
  {
   "cell_type": "code",
   "execution_count": 2,
   "metadata": {},
   "outputs": [],
   "source": [
    "import matplotlib.pyplot as plt\n",
    "import numpy as np\n",
    "\n",
    "from typing import Tuple\n",
    "\n",
    "from incremental_trees.trees import StreamingRFC\n",
    "\n",
    "from sklearn.ensemble import RandomForestClassifier\n",
    "from sklearn.datasets import make_blobs\n",
    "from sklearn.model_selection import train_test_split\n",
    "from sklearn.metrics import roc_auc_score\n",
    "\n",
    "import dask_ml\n",
    "import dask_ml.datasets\n",
    "from dask_ml.wrappers import Incremental\n",
    "from dask.distributed import Client, LocalCluster\n",
    "from dask_ml.model_selection import train_test_split as dask_tts\n",
    "\n",
    "import dask as dd\n",
    "import pandas as pd"
   ]
  },
  {
   "cell_type": "code",
   "execution_count": 3,
   "metadata": {},
   "outputs": [],
   "source": [
    "# Settings\n",
    "MAX_ESTIMATORS = 60  # Lower to run faster"
   ]
  },
  {
   "cell_type": "code",
   "execution_count": 4,
   "metadata": {},
   "outputs": [
    {
     "name": "stderr",
     "output_type": "stream",
     "text": [
      "distributed.comm.tcp - WARNING - Could not set timeout on TCP stream: [Errno 92] Protocol not available\n",
      "distributed.comm.tcp - WARNING - Could not set timeout on TCP stream: [Errno 92] Protocol not available\n",
      "distributed.comm.tcp - WARNING - Could not set timeout on TCP stream: [Errno 92] Protocol not available\n",
      "distributed.comm.tcp - WARNING - Could not set timeout on TCP stream: [Errno 92] Protocol not available\n",
      "distributed.comm.tcp - WARNING - Could not set timeout on TCP stream: [Errno 92] Protocol not available\n",
      "distributed.comm.tcp - WARNING - Could not set timeout on TCP stream: [Errno 92] Protocol not available\n",
      "distributed.comm.tcp - WARNING - Could not set timeout on TCP stream: [Errno 92] Protocol not available\n",
      "distributed.comm.tcp - WARNING - Could not set timeout on TCP stream: [Errno 92] Protocol not available\n"
     ]
    }
   ],
   "source": [
    "# Prepare dask cluster\n",
    "cluster = LocalCluster(processes=False,\n",
    "                       n_workers=2,\n",
    "                       threads_per_worker=2,\n",
    "                       scheduler_port=8383,\n",
    "                       diagnostics_port=8484)\n",
    "client = Client(cluster)"
   ]
  },
  {
   "cell_type": "markdown",
   "metadata": {},
   "source": [
    "# Synthetic data, in memory\n",
    "\n",
    "Compare increasing estimators with RandomForest (using warm_start) against Incremental StreamingRFC (dask handles .partial_fit).\n",
    "\n"
   ]
  },
  {
   "cell_type": "code",
   "execution_count": 5,
   "metadata": {},
   "outputs": [
    {
     "name": "stderr",
     "output_type": "stream",
     "text": [
      "distributed.comm.tcp - WARNING - Could not set timeout on TCP stream: [Errno 92] Protocol not available\n",
      "distributed.comm.tcp - WARNING - Could not set timeout on TCP stream: [Errno 92] Protocol not available\n",
      "distributed.comm.tcp - WARNING - Could not set timeout on TCP stream: [Errno 92] Protocol not available\n",
      "distributed.comm.tcp - WARNING - Could not set timeout on TCP stream: [Errno 92] Protocol not available\n"
     ]
    }
   ],
   "source": [
    "x, y = dask_ml.datasets.make_blobs(n_samples=1e5,\n",
    "                                   chunks=1e4,\n",
    "                                   random_state=0,\n",
    "                                   n_features=40,\n",
    "                                   centers=2,\n",
    "                                   cluster_std=100)\n",
    "\n",
    "x_dd = dd.dataframe.from_array(x, \n",
    "                               chunksize=1e4)\n",
    "y_dd = dd.dataframe.from_array(y,\n",
    "                               chunksize=1e4)\n",
    "\n",
    "x_pd = pd.DataFrame(x.persist().compute())\n",
    "y_pd = pd.DataFrame(y.persist().compute())"
   ]
  },
  {
   "cell_type": "code",
   "execution_count": 6,
   "metadata": {},
   "outputs": [
    {
     "data": {
      "text/plain": [
       "30.517654418945312"
      ]
     },
     "execution_count": 6,
     "metadata": {},
     "output_type": "execute_result"
    }
   ],
   "source": [
    "x_pd.memory_usage(deep=True).sum() / 1024 /1024"
   ]
  },
  {
   "cell_type": "markdown",
   "metadata": {},
   "source": [
    "### Standard random forest"
   ]
  },
  {
   "cell_type": "code",
   "execution_count": 9,
   "metadata": {},
   "outputs": [],
   "source": [
    "def score(mod, \n",
    "          train: Tuple[np.array, np.array],\n",
    "          test: Tuple[np.array, np.array],\n",
    "          pr=False) -> Tuple[float, float]:\n",
    "    \"\"\"\n",
    "    Return ROC auc on x_train and x_test (from caller) on mod. Print if requested.\n",
    "    \"\"\"\n",
    "    y_pred_train_proba = mod.predict_proba(train[0])[:, 1]\n",
    "    y_pred_test_proba = mod.predict_proba(test[0])[:, 1]\n",
    "\n",
    "    roc_train = roc_auc_score(train[1], y_pred_train_proba)\n",
    "    roc_test = roc_auc_score(test[1], y_pred_test_proba)\n",
    "    if pr:\n",
    "        print(f\"n_ests: {len(rfc.estimators_)}\")\n",
    "        print(f'Train AUC: {roc_train}')\n",
    "        print(f'Test AUC: {roc_test}')\n",
    "        \n",
    "    return roc_train, roc_test\n",
    "\n",
    "\n",
    "def score_dask(mod, \n",
    "               train: Tuple[np.array, np.array],\n",
    "               test: Tuple[np.array, np.array],\n",
    "               pr=False) -> Tuple[float, float]:\n",
    "    \"\"\"\n",
    "    Score model using available dask metric (accuracy)\n",
    "    \"\"\"\n",
    "    roc_train = mod.score(train[0], train[1])\n",
    "    roc_test = mod.score(test[0], test[1])\n",
    "    if pr:\n",
    "        print(f\"n_ests: {len(rfc.estimators_)}\")\n",
    "        print(f'Train AUC: {roc_train}')\n",
    "        print(f'Test AUC: {roc_test}')\n",
    "        \n",
    "    return roc_train, roc_test\n",
    "\n",
    "\n",
    "def multiple_fit(x: np.array, y: np.array,\n",
    "                 steps=np.arange(1, 101, 2),\n",
    "                 sample: int=1):\n",
    "    \"\"\"\n",
    "    Fit a random forest model with an increasing number of estimators.\n",
    "    \n",
    "    This version doesn't use warm start and refits the model from scratch each iteration.\n",
    "    This is for the sake of comparing timings to dask function below.\n",
    "    \n",
    "    :param steps: Range to iterate over. Sets total number of estimators that will be fit in model\n",
    "                  after each iteration. Should be range with constant step size.\n",
    "    :param sample: Proportion of randomly sampled training data to use on each partial_fit call.\n",
    "                   If sample = 1, all training data is used on each interation,\n",
    "                   so should behave as standard random forest. Default = 1 (100%).\n",
    "    \"\"\"\n",
    "    \n",
    "    x_train, x_test, y_train, y_test = train_test_split(x, y, \n",
    "                                                        test_size=0.25,\n",
    "                                                        random_state=1)\n",
    "    \n",
    "    train_scores = []\n",
    "    test_scores = []\n",
    "    for s in steps:\n",
    "        \n",
    "        # Fit full model on each iteration\n",
    "        rfc = RandomForestClassifier(warm_start=False)\n",
    "        \n",
    "        # Fit model with these n ests\n",
    "        rfc.set_params(n_estimators=s)\n",
    "        rfc.fit(x_train, y_train)\n",
    "        \n",
    "        tr_score, te_score = score(rfc, \n",
    "                                   train=(x_train, y_train),\n",
    "                                   test=(x_test, y_test),\n",
    "                                   pr=False)\n",
    "        \n",
    "        train_scores.append(tr_score)\n",
    "        test_scores.append(te_score)\n",
    "    \n",
    "    return rfc, train_scores, test_scores\n",
    "\n",
    "\n",
    "def plot_auc(steps, train_scores, test_scores):\n",
    "    \"\"\"\n",
    "    Plot the train and test auc scores vs total number of model estimators\n",
    "    \"\"\"\n",
    "    \n",
    "    fig = plt.figure(figsize=(4, 4))\n",
    "    plt.plot(steps, train_scores)\n",
    "    plt.plot(steps, test_scores)\n",
    "    plt.xlabel('n_estimators')\n",
    "    plt.ylabel('auc')\n",
    "    plt.legend(['train', 'test'])"
   ]
  },
  {
   "cell_type": "code",
   "execution_count": 12,
   "metadata": {},
   "outputs": [
    {
     "name": "stdout",
     "output_type": "stream",
     "text": [
      "CPU times: user 2min 48s, sys: 359 ms, total: 2min 48s\n",
      "Wall time: 2min 48s\n",
      "With 57: 1.0 | 0.6296578594146621\n"
     ]
    },
    {
     "data": {
      "image/png": "[encoded data removed]",
      "text/plain": [
       "<Figure size 288x288 with 1 Axes>"
      ]
     },
     "metadata": {
      "needs_background": "light"
     },
     "output_type": "display_data"
    }
   ],
   "source": [
    "steps = np.arange(1, MAX_ESTIMATORS, 4)\n",
    "rfc = RandomForestClassifier(warm_start=True)\n",
    "\n",
    "%time rfc, train_scores, test_scores = multiple_fit(x_pd.values, y_pd.values.squeeze(), steps=steps)\n",
    "\n",
    "print(f\"With {len(rfc.estimators_)}: {train_scores[-1]} | {test_scores[-1]}\")\n",
    "plot_auc(steps, train_scores, test_scores)"
   ]
  },
  {
   "cell_type": "markdown",
   "metadata": {},
   "source": [
    "## Single incremental forest specs"
   ]
  },
  {
   "cell_type": "code",
   "execution_count": 13,
   "metadata": {},
   "outputs": [
    {
     "data": {
      "text/plain": [
       "((7500, 7500, 7500, 7500, 7500, 7500, 7500, 7500, 7500, 7500), (40,))"
      ]
     },
     "execution_count": 13,
     "metadata": {},
     "output_type": "execute_result"
    }
   ],
   "source": [
    "x_train, x_test, y_train, y_test = dask_tts(x, y, \n",
    "                                            test_size=0.25)\n",
    "\n",
    "x_train.chunks"
   ]
  },
  {
   "cell_type": "markdown",
   "metadata": {},
   "source": [
    "#### Incremental forest\n",
    "1 estimator per subset, 10 % per chunk, 1 pass through data.\n"
   ]
  },
  {
   "cell_type": "code",
   "execution_count": 14,
   "metadata": {},
   "outputs": [
    {
     "name": "stderr",
     "output_type": "stream",
     "text": [
      "distributed.comm.tcp - WARNING - Could not set timeout on TCP stream: [Errno 92] Protocol not available\n",
      "distributed.comm.tcp - WARNING - Could not set timeout on TCP stream: [Errno 92] Protocol not available\n",
      "distributed.comm.tcp - WARNING - Could not set timeout on TCP stream: [Errno 92] Protocol not available\n",
      "distributed.comm.tcp - WARNING - Could not set timeout on TCP stream: [Errno 92] Protocol not available\n"
     ]
    },
    {
     "name": "stdout",
     "output_type": "stream",
     "text": [
      "n_ests: 57\n",
      "Train AUC: 0.6625508114939782\n",
      "Test AUC: 0.5635792198059231\n"
     ]
    }
   ],
   "source": [
    "srfc = Incremental(StreamingRFC(n_estimators=1,\n",
    "                   max_n_estimators=np.inf))\n",
    "\n",
    "srfc.fit(x_train, y_train)\n",
    "\n",
    "tr_score, te_score = score(srfc, \n",
    "                           train=(x_train, y_train),\n",
    "                           test=(x_test, y_test),\n",
    "                           pr=True)"
   ]
  },
  {
   "cell_type": "markdown",
   "metadata": {},
   "source": [
    "#### Incremental forest\n",
    "20 estimators per subset (different features), 10 % per chunk, 1 pass through data."
   ]
  },
  {
   "cell_type": "code",
   "execution_count": 15,
   "metadata": {},
   "outputs": [
    {
     "name": "stdout",
     "output_type": "stream",
     "text": [
      "n_ests: 57\n",
      "Train AUC: 0.8402915986287269\n",
      "Test AUC: 0.648101787261857\n"
     ]
    }
   ],
   "source": [
    "srfc = Incremental(StreamingRFC(n_estimators=20,\n",
    "                                max_n_estimators=np.inf))\n",
    "\n",
    "srfc.fit(x_train, y_train)\n",
    "\n",
    "tr_score, te_score = score(srfc, \n",
    "                           train=(x_train, y_train),\n",
    "                           test=(x_test, y_test),\n",
    "                           pr=True)"
   ]
  },
  {
   "cell_type": "markdown",
   "metadata": {},
   "source": [
    "#### Forest of partial decision trees\n",
    "1 estimator per subset with all features, 10 % per chunk, 1 pass through data."
   ]
  },
  {
   "cell_type": "code",
   "execution_count": 16,
   "metadata": {},
   "outputs": [
    {
     "name": "stdout",
     "output_type": "stream",
     "text": [
      "n_ests: 57\n",
      "Train AUC: 0.6722799556261619\n",
      "Test AUC: 0.5797707138008342\n"
     ]
    }
   ],
   "source": [
    "srfc = Incremental(StreamingRFC(n_estimators=1,\n",
    "                                max_n_estimators=np.max(steps),\n",
    "                                max_features=x.shape[1]))\n",
    "\n",
    "srfc.fit(x_train, y_train)\n",
    "\n",
    "tr_score, te_score = score(srfc, \n",
    "                           train=(x_train, y_train),\n",
    "                           test=(x_test, y_test),\n",
    "                           pr=True)"
   ]
  },
  {
   "cell_type": "markdown",
   "metadata": {},
   "source": [
    "#### Forest of partial decision trees\n",
    "20 estimator per subset with all features, 10 % per chunk, 1 pass through data.\n",
    "\n",
    "Extra estimators shouldn't help here?"
   ]
  },
  {
   "cell_type": "code",
   "execution_count": 17,
   "metadata": {},
   "outputs": [
    {
     "name": "stdout",
     "output_type": "stream",
     "text": [
      "n_ests: 57\n",
      "Train AUC: 0.755615437589638\n",
      "Test AUC: 0.6249100034141293\n"
     ]
    }
   ],
   "source": [
    "srfc = Incremental(StreamingRFC(n_estimators=20,\n",
    "                                max_n_estimators=np.max(steps),\n",
    "                                max_features=x.shape[1]))\n",
    "\n",
    "srfc.fit(x_train, y_train)\n",
    "\n",
    "tr_score, te_score = score(srfc, \n",
    "                           train=(x_train, y_train),\n",
    "                           test=(x_test, y_test),\n",
    "                           pr=True)"
   ]
  },
  {
   "cell_type": "markdown",
   "metadata": {},
   "source": [
    "### n estimators per chunk vs performance\n",
    "\n",
    "Effect of increasing estimators per subset (with different set ups)\n",
    "\n",
    "Function here add Incremental to supplied model, and uses .fit to refit the full model in each iteration.\n",
    "\n",
    "The other functions (above and in PerformanceComparisons.ipynb) do incremental fits using warm start (either directly or via .partial_fit). \n",
    "\n",
    "This means the timing information cannot be directly compared!"
   ]
  },
  {
   "cell_type": "code",
   "execution_count": 18,
   "metadata": {},
   "outputs": [],
   "source": [
    "def multiple_dask_fit(x: np.ndarray, y:np.ndarray,\n",
    "                      steps=np.arange(1, 101, 2),\n",
    "                      **kwargs) -> None:\n",
    "    \n",
    "    \"\"\"\n",
    "    Fit increasing number of estimators using .partial_fit on a subsample of the training data.\n",
    "    Uses Dask by adding Incremental to model and calling fit. This refits the whole model one each\n",
    "    iteration, so will be slower than the other test functions. Timing this function can only be compared\n",
    "    to other calls of this function.\n",
    "    \n",
    "    The data passed to the Random forest fit by partial_fit is handled by dask and is sequential batches\n",
    "    of data, rather than random samples (as used by inc_partial_fit in PerformanceComparisons.ipynb).\n",
    "    \n",
    "    StreamingRFC.n_estimators: Number of estimators that will be fit in each step. Set from first\n",
    "                               difference in range (ie. range[1]-range[0])\n",
    "    StreamingRFC.max_n_estimators: Limit on number of estimators than will be fit in model. Should >\n",
    "                                   range[-1].\n",
    "    \n",
    "    :param steps: Range to iterate over. Sets total number of estimators that will be fit in model\n",
    "                  after each iteration. Should be range with constant step size.\n",
    "    \"\"\"\n",
    "    \n",
    "   \n",
    "    x_train, x_test, y_train, y_test = dask_tts(x, y, \n",
    "                                               test_size=0.25)\n",
    "    \n",
    "    n_train = x_train.shape[0]\n",
    "    \n",
    "    train_scores = []\n",
    "    test_scores = []\n",
    "    for s in steps:\n",
    "        \n",
    "        # Create fresh model each iteration\n",
    "        srfc_ = StreamingRFC(n_estimators=s,\n",
    "                             max_n_estimators=np.inf,\n",
    "                             **kwargs)\n",
    " \n",
    "           \n",
    "        # Add Incremental\n",
    "        srfc_ = Incremental(srfc_)\n",
    "        \n",
    "        # Fit model with these n ests\n",
    "        # From scratch each time\n",
    "        srfc_.fit(x_train, y_train)\n",
    "        \n",
    "        tr_score, te_score = score(srfc_,\n",
    "                                   train=(x_train, y_train),\n",
    "                                   test=(x_test, y_test),\n",
    "                                   pr=False)\n",
    "        train_scores.append(tr_score)\n",
    "        test_scores.append(te_score)\n",
    "    \n",
    "    return srfc_, train_scores, test_scores"
   ]
  },
  {
   "cell_type": "markdown",
   "metadata": {},
   "source": [
    "#### Incremental forest\n",
    "*range* estimators per subset (different features), 10 % per chunk, 1 pass through data."
   ]
  },
  {
   "cell_type": "code",
   "execution_count": 19,
   "metadata": {},
   "outputs": [
    {
     "name": "stdout",
     "output_type": "stream",
     "text": [
      "CPU times: user 2min 48s, sys: 1min 24s, total: 4min 13s\n",
      "Wall time: 3min 16s\n",
      "With 550: 0.8558900861211464 | 0.6531742925607609\n"
     ]
    },
    {
     "data": {
      "image/png": "[encoded data removed]",
      "text/plain": [
       "<Figure size 288x288 with 1 Axes>"
      ]
     },
     "metadata": {
      "needs_background": "light"
     },
     "output_type": "display_data"
    }
   ],
   "source": [
    "steps = np.arange(1, MAX_ESTIMATORS, 6)\n",
    "\n",
    "%time final_est, train_scores, test_scores = multiple_dask_fit(x, y, steps=steps)\n",
    "print(f\"With {len(final_est.estimators_)}: {train_scores[-1]} | {test_scores[-1]}\")\n",
    "plot_auc(steps, train_scores, test_scores)"
   ]
  },
  {
   "cell_type": "markdown",
   "metadata": {},
   "source": [
    "#### Forest of partial decision trees\n",
    "*range* estimators per subset with all features, 10 % per chunk, 1 pass through data."
   ]
  },
  {
   "cell_type": "code",
   "execution_count": 20,
   "metadata": {},
   "outputs": [
    {
     "name": "stderr",
     "output_type": "stream",
     "text": [
      "distributed.comm.tcp - WARNING - Could not set timeout on TCP stream: [Errno 92] Protocol not available\n",
      "distributed.comm.tcp - WARNING - Could not set timeout on TCP stream: [Errno 92] Protocol not available\n"
     ]
    },
    {
     "name": "stdout",
     "output_type": "stream",
     "text": [
      "CPU times: user 8min 55s, sys: 59.8 s, total: 9min 55s\n",
      "Wall time: 8min 58s\n"
     ]
    },
    {
     "data": {
      "image/png": "[encoded data removed]",
      "text/plain": [
       "<Figure size 288x288 with 1 Axes>"
      ]
     },
     "metadata": {
      "needs_background": "light"
     },
     "output_type": "display_data"
    }
   ],
   "source": [
    "steps = np.arange(1, MAX_ESTIMATORS, 6)\n",
    "\n",
    "\n",
    "%time final_est, train_scores, test_scores = multiple_dask_fit(x, y, steps=steps, max_features=x.shape[1])\n",
    "# print(f\"With {len(srfc.estimators_)}: {train_scores[-1]} | {test_scores[-1]}\")\n",
    "plot_auc(steps, train_scores, test_scores)"
   ]
  },
  {
   "cell_type": "code",
   "execution_count": null,
   "metadata": {},
   "outputs": [],
   "source": []
  }
 ],
 "metadata": {
  "kernelspec": {
   "display_name": "Python 3",
   "language": "python",
   "name": "python3"
  },
  "language_info": {
   "codemirror_mode": {
    "name": "ipython",
    "version": 3
   },
   "file_extension": ".py",
   "mimetype": "text/x-python",
   "name": "python",
   "nbconvert_exporter": "python",
   "pygments_lexer": "ipython3",
   "version": "3.6.7"
  }
 },
 "nbformat": 4,
 "nbformat_minor": 2
}
